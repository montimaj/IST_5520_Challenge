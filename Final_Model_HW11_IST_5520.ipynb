{
 "cells": [
  {
   "cell_type": "markdown",
   "id": "028802b9",
   "metadata": {},
   "source": [
    "# IST 5520 Competition Problem (HW 11)\n",
    "## By: Sayantan Majumdar and Dawit Wolday Asfaw\n",
    "### Contributions: \n",
    "\n",
    "#### Sayantan- Model implementation, Hyperparameter Tuning; Dawit- Data transformation, Model comparison\n",
    "##### Supplementary notebook: spam_classifier_model_tuning.ipynb"
   ]
  },
  {
   "cell_type": "code",
   "execution_count": 1,
   "id": "84e74ad1",
   "metadata": {},
   "outputs": [],
   "source": [
    "from lightgbm import LGBMClassifier\n",
    "from sklearn.preprocessing import MinMaxScaler\n",
    "from sklearn.metrics import roc_auc_score\n",
    "import pandas as pd"
   ]
  },
  {
   "cell_type": "code",
   "execution_count": 2,
   "id": "7cfcbbab",
   "metadata": {},
   "outputs": [],
   "source": [
    "train_df = pd.read_csv('Data/train_data.csv')\n",
    "test_df = pd.read_csv('Data/test_data.csv')"
   ]
  },
  {
   "cell_type": "code",
   "execution_count": 3,
   "id": "ce6a6bf9",
   "metadata": {},
   "outputs": [],
   "source": [
    "y = train_df['class'].copy()\n",
    "X = train_df.drop(columns='class')"
   ]
  },
  {
   "cell_type": "code",
   "execution_count": 4,
   "id": "c675b1c5",
   "metadata": {},
   "outputs": [],
   "source": [
    "y_test = test_df['class'].copy()\n",
    "X_test = test_df.drop(columns='class')"
   ]
  },
  {
   "cell_type": "code",
   "execution_count": 5,
   "id": "0723d5b9",
   "metadata": {},
   "outputs": [],
   "source": [
    "# Data Normalization\n",
    "scaler = MinMaxScaler()\n",
    "train_norm_arr = scaler.fit_transform(X)\n",
    "test_norm_arr = scaler.transform(X_test)"
   ]
  },
  {
   "cell_type": "code",
   "execution_count": 6,
   "id": "8d2a1f5d",
   "metadata": {},
   "outputs": [],
   "source": [
    "# These are the best parameters obtained using GridSearchCV\n",
    "param_dict = {\n",
    "    'colsample_bynode': 1, \n",
    "    'colsample_bytree': 0.5, \n",
    "    'learning_rate': 0.05, \n",
    "    'max_bin': 127, \n",
    "    'max_depth': 10, \n",
    "    'n_estimators': 300, \n",
    "    'num_leaves': 63, \n",
    "    'path_smooth': 0.2, \n",
    "    'subsample': 1,\n",
    "}"
   ]
  },
  {
   "cell_type": "code",
   "execution_count": 7,
   "id": "ffba4b42",
   "metadata": {},
   "outputs": [],
   "source": [
    "model = LGBMClassifier(\n",
    "            boosting_type='gbdt',\n",
    "            tree_learner='feature', \n",
    "            class_weight='balanced',\n",
    "            random_state=0,\n",
    "            deterministic=True, force_row_wise=True\n",
    "        )"
   ]
  },
  {
   "cell_type": "code",
   "execution_count": 8,
   "id": "ba79326f",
   "metadata": {},
   "outputs": [
    {
     "data": {
      "text/plain": [
       "LGBMClassifier(class_weight='balanced', colsample_bynode=1,\n",
       "               colsample_bytree=0.5, deterministic=True, force_row_wise=True,\n",
       "               learning_rate=0.05, max_bin=127, max_depth=10, n_estimators=300,\n",
       "               num_leaves=63, path_smooth=0.2, random_state=0, subsample=1,\n",
       "               tree_learner='feature')"
      ]
     },
     "execution_count": 8,
     "metadata": {},
     "output_type": "execute_result"
    }
   ],
   "source": [
    "model.set_params(**param_dict)"
   ]
  },
  {
   "cell_type": "code",
   "execution_count": 9,
   "id": "8cc9bb61",
   "metadata": {},
   "outputs": [
    {
     "data": {
      "text/plain": [
       "LGBMClassifier(class_weight='balanced', colsample_bynode=1,\n",
       "               colsample_bytree=0.5, deterministic=True, force_row_wise=True,\n",
       "               learning_rate=0.05, max_bin=127, max_depth=10, n_estimators=300,\n",
       "               num_leaves=63, path_smooth=0.2, random_state=0, subsample=1,\n",
       "               tree_learner='feature')"
      ]
     },
     "execution_count": 9,
     "metadata": {},
     "output_type": "execute_result"
    }
   ],
   "source": [
    "model.fit(train_norm_arr, y)"
   ]
  },
  {
   "cell_type": "code",
   "execution_count": 10,
   "id": "7d002aae",
   "metadata": {},
   "outputs": [
    {
     "name": "stdout",
     "output_type": "stream",
     "text": [
      "Test ROC_AUC: 0.9612147726474103\n"
     ]
    }
   ],
   "source": [
    "y_pred = model.predict(test_norm_arr)\n",
    "print('Test ROC_AUC:', roc_auc_score(y_test, y_pred))"
   ]
  },
  {
   "cell_type": "code",
   "execution_count": null,
   "id": "4389f15e",
   "metadata": {},
   "outputs": [],
   "source": []
  }
 ],
 "metadata": {
  "kernelspec": {
   "display_name": "Python 3 (ipykernel)",
   "language": "python",
   "name": "python3"
  },
  "language_info": {
   "codemirror_mode": {
    "name": "ipython",
    "version": 3
   },
   "file_extension": ".py",
   "mimetype": "text/x-python",
   "name": "python",
   "nbconvert_exporter": "python",
   "pygments_lexer": "ipython3",
   "version": "3.9.7"
  }
 },
 "nbformat": 4,
 "nbformat_minor": 5
}
